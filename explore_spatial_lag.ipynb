{
 "cells": [
  {
   "cell_type": "code",
   "execution_count": 1,
   "metadata": {},
   "outputs": [],
   "source": [
    "import pysal as ps"
   ]
  },
  {
   "cell_type": "code",
   "execution_count": 3,
   "metadata": {},
   "outputs": [],
   "source": [
    "shp_qw = ps.queen_from_shapefile('input/taz_timestep.shp')"
   ]
  },
  {
   "cell_type": "code",
   "execution_count": 5,
   "metadata": {},
   "outputs": [],
   "source": [
    "shp_qw.transform = 'r'"
   ]
  },
  {
   "cell_type": "code",
   "execution_count": 7,
   "metadata": {},
   "outputs": [],
   "source": [
    "import geopandas as gpd\n",
    "import pandas as pd\n",
    "shp = gpd.read_file('input/taz_timestep.shp')"
   ]
  },
  {
   "cell_type": "code",
   "execution_count": 8,
   "metadata": {},
   "outputs": [
    {
     "data": {
      "text/html": [
       "<div>\n",
       "<style scoped>\n",
       "    .dataframe tbody tr th:only-of-type {\n",
       "        vertical-align: middle;\n",
       "    }\n",
       "\n",
       "    .dataframe tbody tr th {\n",
       "        vertical-align: top;\n",
       "    }\n",
       "\n",
       "    .dataframe thead th {\n",
       "        text-align: right;\n",
       "    }\n",
       "</style>\n",
       "<table border=\"1\" class=\"dataframe\">\n",
       "  <thead>\n",
       "    <tr style=\"text-align: right;\">\n",
       "      <th></th>\n",
       "      <th>geohash6</th>\n",
       "      <th>1</th>\n",
       "      <th>2</th>\n",
       "      <th>3</th>\n",
       "      <th>4</th>\n",
       "      <th>5</th>\n",
       "      <th>6</th>\n",
       "      <th>7</th>\n",
       "      <th>8</th>\n",
       "      <th>9</th>\n",
       "      <th>...</th>\n",
       "      <th>290</th>\n",
       "      <th>291</th>\n",
       "      <th>292</th>\n",
       "      <th>293</th>\n",
       "      <th>294</th>\n",
       "      <th>295</th>\n",
       "      <th>296</th>\n",
       "      <th>297</th>\n",
       "      <th>298</th>\n",
       "      <th>geometry</th>\n",
       "    </tr>\n",
       "  </thead>\n",
       "  <tbody>\n",
       "    <tr>\n",
       "      <th>0</th>\n",
       "      <td>qp03wc</td>\n",
       "      <td>0.054858</td>\n",
       "      <td>0.086209</td>\n",
       "      <td>0.050739</td>\n",
       "      <td>0.075174</td>\n",
       "      <td>0.062867</td>\n",
       "      <td>0.056765</td>\n",
       "      <td>0.069417</td>\n",
       "      <td>0.079853</td>\n",
       "      <td>0.119192</td>\n",
       "      <td>...</td>\n",
       "      <td>0.212908</td>\n",
       "      <td>0.221505</td>\n",
       "      <td>0.221193</td>\n",
       "      <td>0.254501</td>\n",
       "      <td>0.200325</td>\n",
       "      <td>0.239276</td>\n",
       "      <td>0.244779</td>\n",
       "      <td>0.248946</td>\n",
       "      <td>0.264838</td>\n",
       "      <td>POLYGON ((90.648193359375 -5.350341796875, 90....</td>\n",
       "    </tr>\n",
       "    <tr>\n",
       "      <th>1</th>\n",
       "      <td>qp03pn</td>\n",
       "      <td>0.000000</td>\n",
       "      <td>0.005546</td>\n",
       "      <td>0.013577</td>\n",
       "      <td>0.004720</td>\n",
       "      <td>0.004425</td>\n",
       "      <td>0.000303</td>\n",
       "      <td>0.013996</td>\n",
       "      <td>0.004471</td>\n",
       "      <td>0.014096</td>\n",
       "      <td>...</td>\n",
       "      <td>0.042419</td>\n",
       "      <td>0.042005</td>\n",
       "      <td>0.036226</td>\n",
       "      <td>0.055335</td>\n",
       "      <td>0.029098</td>\n",
       "      <td>0.047898</td>\n",
       "      <td>0.057352</td>\n",
       "      <td>0.044952</td>\n",
       "      <td>0.042234</td>\n",
       "      <td>POLYGON ((90.6591796875 -5.4107666015625, 90.6...</td>\n",
       "    </tr>\n",
       "    <tr>\n",
       "      <th>2</th>\n",
       "      <td>qp09sw</td>\n",
       "      <td>0.022881</td>\n",
       "      <td>0.019733</td>\n",
       "      <td>0.023053</td>\n",
       "      <td>0.029018</td>\n",
       "      <td>0.073814</td>\n",
       "      <td>0.066341</td>\n",
       "      <td>0.061355</td>\n",
       "      <td>0.094834</td>\n",
       "      <td>0.086832</td>\n",
       "      <td>...</td>\n",
       "      <td>0.073668</td>\n",
       "      <td>0.088404</td>\n",
       "      <td>0.085995</td>\n",
       "      <td>0.092156</td>\n",
       "      <td>0.131972</td>\n",
       "      <td>0.117505</td>\n",
       "      <td>0.104735</td>\n",
       "      <td>0.104936</td>\n",
       "      <td>0.100530</td>\n",
       "      <td>POLYGON ((90.90087890625 -5.3228759765625, 90....</td>\n",
       "    </tr>\n",
       "    <tr>\n",
       "      <th>3</th>\n",
       "      <td>qp0991</td>\n",
       "      <td>0.012395</td>\n",
       "      <td>0.048042</td>\n",
       "      <td>0.078544</td>\n",
       "      <td>0.074393</td>\n",
       "      <td>0.117350</td>\n",
       "      <td>0.092151</td>\n",
       "      <td>0.061261</td>\n",
       "      <td>0.083871</td>\n",
       "      <td>0.083997</td>\n",
       "      <td>...</td>\n",
       "      <td>0.074732</td>\n",
       "      <td>0.104935</td>\n",
       "      <td>0.074345</td>\n",
       "      <td>0.163029</td>\n",
       "      <td>0.147321</td>\n",
       "      <td>0.127073</td>\n",
       "      <td>0.133134</td>\n",
       "      <td>0.103328</td>\n",
       "      <td>0.091788</td>\n",
       "      <td>POLYGON ((90.7470703125 -5.350341796875, 90.75...</td>\n",
       "    </tr>\n",
       "    <tr>\n",
       "      <th>4</th>\n",
       "      <td>qp090q</td>\n",
       "      <td>0.000000</td>\n",
       "      <td>0.000000</td>\n",
       "      <td>0.000000</td>\n",
       "      <td>0.011483</td>\n",
       "      <td>0.003363</td>\n",
       "      <td>0.015389</td>\n",
       "      <td>0.016686</td>\n",
       "      <td>0.017399</td>\n",
       "      <td>0.004562</td>\n",
       "      <td>...</td>\n",
       "      <td>0.033637</td>\n",
       "      <td>0.036047</td>\n",
       "      <td>0.008174</td>\n",
       "      <td>0.016565</td>\n",
       "      <td>0.011225</td>\n",
       "      <td>0.017108</td>\n",
       "      <td>0.032772</td>\n",
       "      <td>0.046205</td>\n",
       "      <td>0.045149</td>\n",
       "      <td>POLYGON ((90.714111328125 -5.4107666015625, 90...</td>\n",
       "    </tr>\n",
       "  </tbody>\n",
       "</table>\n",
       "<p>5 rows × 300 columns</p>\n",
       "</div>"
      ],
      "text/plain": [
       "  geohash6         1         2         3         4         5         6  \\\n",
       "0   qp03wc  0.054858  0.086209  0.050739  0.075174  0.062867  0.056765   \n",
       "1   qp03pn  0.000000  0.005546  0.013577  0.004720  0.004425  0.000303   \n",
       "2   qp09sw  0.022881  0.019733  0.023053  0.029018  0.073814  0.066341   \n",
       "3   qp0991  0.012395  0.048042  0.078544  0.074393  0.117350  0.092151   \n",
       "4   qp090q  0.000000  0.000000  0.000000  0.011483  0.003363  0.015389   \n",
       "\n",
       "          7         8         9  ...       290       291       292       293  \\\n",
       "0  0.069417  0.079853  0.119192  ...  0.212908  0.221505  0.221193  0.254501   \n",
       "1  0.013996  0.004471  0.014096  ...  0.042419  0.042005  0.036226  0.055335   \n",
       "2  0.061355  0.094834  0.086832  ...  0.073668  0.088404  0.085995  0.092156   \n",
       "3  0.061261  0.083871  0.083997  ...  0.074732  0.104935  0.074345  0.163029   \n",
       "4  0.016686  0.017399  0.004562  ...  0.033637  0.036047  0.008174  0.016565   \n",
       "\n",
       "        294       295       296       297       298  \\\n",
       "0  0.200325  0.239276  0.244779  0.248946  0.264838   \n",
       "1  0.029098  0.047898  0.057352  0.044952  0.042234   \n",
       "2  0.131972  0.117505  0.104735  0.104936  0.100530   \n",
       "3  0.147321  0.127073  0.133134  0.103328  0.091788   \n",
       "4  0.011225  0.017108  0.032772  0.046205  0.045149   \n",
       "\n",
       "                                            geometry  \n",
       "0  POLYGON ((90.648193359375 -5.350341796875, 90....  \n",
       "1  POLYGON ((90.6591796875 -5.4107666015625, 90.6...  \n",
       "2  POLYGON ((90.90087890625 -5.3228759765625, 90....  \n",
       "3  POLYGON ((90.7470703125 -5.350341796875, 90.75...  \n",
       "4  POLYGON ((90.714111328125 -5.4107666015625, 90...  \n",
       "\n",
       "[5 rows x 300 columns]"
      ]
     },
     "execution_count": 8,
     "metadata": {},
     "output_type": "execute_result"
    }
   ],
   "source": [
    "shp.head()"
   ]
  },
  {
   "cell_type": "code",
   "execution_count": 38,
   "metadata": {},
   "outputs": [],
   "source": [
    "import matplotlib.pyplot as plt\n",
    "%pylab inline\n",
    "\n",
    "def compare_map(col1, col2):\n",
    "    fig = plt.figure(figsize=(22,8))\n",
    "    ax1 = fig.add_subplot(121)\n",
    "    ax2 = fig.add_subplot(122)\n",
    "    shp.plot(figsize=(10,6), vmax=0.7, column=col1, ax=ax1)\n",
    "    shp.plot(figsize=(10,6), vmax=0.7, column=col2, ax=ax2)"
   ]
  },
  {
   "cell_type": "code",
   "execution_count": 53,
   "metadata": {},
   "outputs": [],
   "source": [
    "ts = '200'\n",
    "values = shp[ts]\n",
    "lag = ps.lag_spatial(shp_qw, values)\n",
    "shp[ts+'_lag'] = values + 0.3 * lag"
   ]
  },
  {
   "cell_type": "code",
   "execution_count": 54,
   "metadata": {},
   "outputs": [
    {
     "data": {
      "image/png": "[encoded data removed]",
      "text/plain": [
       "<Figure size 1584x576 with 2 Axes>"
      ]
     },
     "metadata": {},
     "output_type": "display_data"
    }
   ],
   "source": [
    "compare_map(ts, ts+'_lag')"
   ]
  },
  {
   "cell_type": "code",
   "execution_count": 55,
   "metadata": {},
   "outputs": [
    {
     "data": {
      "image/png": "[encoded data removed]",
      "text/plain": [
       "<Figure size 1584x576 with 2 Axes>"
      ]
     },
     "metadata": {},
     "output_type": "display_data"
    }
   ],
   "source": [
    "compare_map(str(int(ts)+1), str(int(ts)+4))"
   ]
  },
  {
   "cell_type": "code",
   "execution_count": null,
   "metadata": {},
   "outputs": [],
   "source": []
  },
  {
   "cell_type": "code",
   "execution_count": null,
   "metadata": {},
   "outputs": [],
   "source": []
  }
 ],
 "metadata": {
  "kernelspec": {
   "display_name": "Python 3",
   "language": "python",
   "name": "python3"
  },
  "language_info": {
   "codemirror_mode": {
    "name": "ipython",
    "version": 3
   },
   "file_extension": ".py",
   "mimetype": "text/x-python",
   "name": "python",
   "nbconvert_exporter": "python",
   "pygments_lexer": "ipython3",
   "version": "3.6.8"
  }
 },
 "nbformat": 4,
 "nbformat_minor": 2
}
