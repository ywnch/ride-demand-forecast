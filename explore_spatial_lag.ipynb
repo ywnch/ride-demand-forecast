{
 "cells": [
  {
   "cell_type": "code",
   "execution_count": 24,
   "metadata": {},
   "outputs": [
    {
     "name": "stderr",
     "output_type": "stream",
     "text": [
      "/home/yuwen/anaconda3/lib/python3.7/site-packages/pysal/model/spvcm/abstracts.py:10: UserWarning: The `dill` module is required to use the sqlite backend fully.\n",
      "  from .sqlite import head_to_sql, start_sql\n"
     ]
    }
   ],
   "source": [
    "import geohash\n",
    "import numpy as np\n",
    "import pandas as pd\n",
    "import geopandas as gpd\n",
    "import pysal as ps\n",
    "from importlib import reload"
   ]
  },
  {
   "cell_type": "code",
   "execution_count": 25,
   "metadata": {},
   "outputs": [
    {
     "name": "stdout",
     "output_type": "stream",
     "text": [
      "'filepath' not given, download data from: https://s3-ap-southeast-1.amazonaws.com/grab-aiforsea-dataset/traffic-management.zip\n",
      "Data loaded.\n",
      "N: 4206321\n",
      "  geohash6  day timestamp    demand\n",
      "0   qp03wc   18      20:0  0.020072\n",
      "1   qp03pn   10     14:30  0.024721\n",
      "2   qp09sw    9      6:15  0.102821\n",
      "TAZ: 1329\n"
     ]
    },
    {
     "data": {
      "text/html": [
       "<div>\n",
       "<style scoped>\n",
       "    .dataframe tbody tr th:only-of-type {\n",
       "        vertical-align: middle;\n",
       "    }\n",
       "\n",
       "    .dataframe tbody tr th {\n",
       "        vertical-align: top;\n",
       "    }\n",
       "\n",
       "    .dataframe thead th {\n",
       "        text-align: right;\n",
       "    }\n",
       "</style>\n",
       "<table border=\"1\" class=\"dataframe\">\n",
       "  <thead>\n",
       "    <tr style=\"text-align: right;\">\n",
       "      <th></th>\n",
       "      <th>geohash6</th>\n",
       "      <th>day</th>\n",
       "      <th>timestamp</th>\n",
       "      <th>demand</th>\n",
       "      <th>date</th>\n",
       "      <th>time</th>\n",
       "      <th>datetime</th>\n",
       "    </tr>\n",
       "  </thead>\n",
       "  <tbody>\n",
       "    <tr>\n",
       "      <th>0</th>\n",
       "      <td>qp03wc</td>\n",
       "      <td>18</td>\n",
       "      <td>20:0</td>\n",
       "      <td>0.020072</td>\n",
       "      <td>2018-01-19</td>\n",
       "      <td>20:00:00</td>\n",
       "      <td>2018-01-19 20:00:00</td>\n",
       "    </tr>\n",
       "    <tr>\n",
       "      <th>1</th>\n",
       "      <td>qp03pn</td>\n",
       "      <td>10</td>\n",
       "      <td>14:30</td>\n",
       "      <td>0.024721</td>\n",
       "      <td>2018-01-11</td>\n",
       "      <td>14:30:00</td>\n",
       "      <td>2018-01-11 14:30:00</td>\n",
       "    </tr>\n",
       "    <tr>\n",
       "      <th>2</th>\n",
       "      <td>qp09sw</td>\n",
       "      <td>9</td>\n",
       "      <td>6:15</td>\n",
       "      <td>0.102821</td>\n",
       "      <td>2018-01-10</td>\n",
       "      <td>06:15:00</td>\n",
       "      <td>2018-01-10 06:15:00</td>\n",
       "    </tr>\n",
       "    <tr>\n",
       "      <th>3</th>\n",
       "      <td>qp0991</td>\n",
       "      <td>32</td>\n",
       "      <td>5:0</td>\n",
       "      <td>0.088755</td>\n",
       "      <td>2018-02-02</td>\n",
       "      <td>05:00:00</td>\n",
       "      <td>2018-02-02 05:00:00</td>\n",
       "    </tr>\n",
       "    <tr>\n",
       "      <th>4</th>\n",
       "      <td>qp090q</td>\n",
       "      <td>15</td>\n",
       "      <td>4:0</td>\n",
       "      <td>0.074468</td>\n",
       "      <td>2018-01-16</td>\n",
       "      <td>04:00:00</td>\n",
       "      <td>2018-01-16 04:00:00</td>\n",
       "    </tr>\n",
       "  </tbody>\n",
       "</table>\n",
       "</div>"
      ],
      "text/plain": [
       "  geohash6  day timestamp    demand       date      time            datetime\n",
       "0   qp03wc   18      20:0  0.020072 2018-01-19  20:00:00 2018-01-19 20:00:00\n",
       "1   qp03pn   10     14:30  0.024721 2018-01-11  14:30:00 2018-01-11 14:30:00\n",
       "2   qp09sw    9      6:15  0.102821 2018-01-10  06:15:00 2018-01-10 06:15:00\n",
       "3   qp0991   32       5:0  0.088755 2018-02-02  05:00:00 2018-02-02 05:00:00\n",
       "4   qp090q   15       4:0  0.074468 2018-01-16  04:00:00 2018-01-16 04:00:00"
      ]
     },
     "execution_count": 25,
     "metadata": {},
     "output_type": "execute_result"
    }
   ],
   "source": [
    "from rdforecast import datasets\n",
    "\n",
    "path = './input/'\n",
    "data = datasets.load_training_data()\n",
    "print('TAZ:', len(data['geohash6'].unique()))\n",
    "data = datasets.convert_datetime(data)\n",
    "data.head()"
   ]
  },
  {
   "cell_type": "code",
   "execution_count": 26,
   "metadata": {},
   "outputs": [],
   "source": [
    "from shapely.geometry import Polygon\n",
    "def geohash_to_polygon(hashcode):\n",
    "    box = geohash.bbox(hashcode)\n",
    "    vertices = [(box['w'], box['n']),\n",
    "                (box['e'], box['n']),\n",
    "                (box['e'], box['s']),\n",
    "                (box['w'], box['s'])]\n",
    "    return Polygon(vertices)"
   ]
  },
  {
   "cell_type": "code",
   "execution_count": 28,
   "metadata": {},
   "outputs": [],
   "source": [
    "tazs = list(data['geohash6'].unique())\n",
    "geometry = [geohash_to_polygon(taz) for taz in tazs]\n",
    "shp = gpd.GeoDataFrame({'geohash6': tazs}, geometry=geometry)\n",
    "shp.crs = {'init': 'epsg:4326'}\n",
    "assert len(shp) == len(data['geohash6'].unique())\n",
    "# shp.to_file('input/taz.shp')\n",
    "# assertion\n",
    "a = shp[shp['geohash6'] == 'qp03wc']['geometry'].values[0]\n",
    "b = np.array([a.intersects(shp[shp['geohash6'] == gh]['geometry'].values[0])\n",
    "              for gh in geohash.neighbors('qp03wc')])\n",
    "assert sum(b == False) == 0"
   ]
  },
  {
   "cell_type": "code",
   "execution_count": 30,
   "metadata": {},
   "outputs": [
    {
     "data": {
      "text/plain": [
       "<matplotlib.axes._subplots.AxesSubplot at 0x7f834d878550>"
      ]
     },
     "execution_count": 30,
     "metadata": {},
     "output_type": "execute_result"
    },
    {
     "data": {
      "image/png": "[encoded data removed]",
      "text/plain": [
       "<Figure size 432x288 with 1 Axes>"
      ]
     },
     "metadata": {
      "needs_background": "light"
     },
     "output_type": "display_data"
    }
   ],
   "source": [
    "# shp['value'] = np.random.randn(len(shp))\n",
    "# shp.plot(linewidth=1, edgecolor='black', column='value', cmap='viridis')\n",
    "ax = shp.plot(linewidth=1, edgecolor='black')\n",
    "shp[shp['geohash6'] == 'qp09ft'].plot(ax=ax, color='indianred')"
   ]
  },
  {
   "cell_type": "code",
   "execution_count": 29,
   "metadata": {},
   "outputs": [
    {
     "ename": "NameError",
     "evalue": "name 'data_' is not defined",
     "output_type": "error",
     "traceback": [
      "\u001b[0;31m---------------------------------------------------------------------------\u001b[0m",
      "\u001b[0;31mNameError\u001b[0m                                 Traceback (most recent call last)",
      "\u001b[0;32m<ipython-input-29-20804787bf71>\u001b[0m in \u001b[0;36m<module>\u001b[0;34m\u001b[0m\n\u001b[0;32m----> 1\u001b[0;31m \u001b[0mdata_\u001b[0m\u001b[0;34m[\u001b[0m\u001b[0;34m'timestep'\u001b[0m\u001b[0;34m]\u001b[0m \u001b[0;34m=\u001b[0m \u001b[0mdata_\u001b[0m\u001b[0;34m[\u001b[0m\u001b[0;34m'timestep'\u001b[0m\u001b[0;34m]\u001b[0m\u001b[0;34m.\u001b[0m\u001b[0mastype\u001b[0m\u001b[0;34m(\u001b[0m\u001b[0mint\u001b[0m\u001b[0;34m)\u001b[0m\u001b[0;34m\u001b[0m\u001b[0;34m\u001b[0m\u001b[0m\n\u001b[0m\u001b[1;32m      2\u001b[0m \u001b[0mpivoted\u001b[0m \u001b[0;34m=\u001b[0m \u001b[0mdata_\u001b[0m\u001b[0;34m.\u001b[0m\u001b[0mpivot\u001b[0m\u001b[0;34m(\u001b[0m\u001b[0mindex\u001b[0m\u001b[0;34m=\u001b[0m\u001b[0;34m'geohash6'\u001b[0m\u001b[0;34m,\u001b[0m \u001b[0mcolumns\u001b[0m\u001b[0;34m=\u001b[0m\u001b[0;34m'timestep'\u001b[0m\u001b[0;34m,\u001b[0m \u001b[0mvalues\u001b[0m\u001b[0;34m=\u001b[0m\u001b[0;34m'demand'\u001b[0m\u001b[0;34m)\u001b[0m\u001b[0;34m.\u001b[0m\u001b[0mreset_index\u001b[0m\u001b[0;34m(\u001b[0m\u001b[0;34m)\u001b[0m\u001b[0;34m\u001b[0m\u001b[0;34m\u001b[0m\u001b[0m\n",
      "\u001b[0;31mNameError\u001b[0m: name 'data_' is not defined"
     ]
    }
   ],
   "source": [
    "data_['timestep'] = data_['timestep'].astype(int)\n",
    "pivoted = data_.pivot(index='geohash6', columns='timestep', values='demand').reset_index()"
   ]
  },
  {
   "cell_type": "code",
   "execution_count": 206,
   "metadata": {},
   "outputs": [],
   "source": [
    "output = shp.merge(pivoted, how='left', on='geohash6')\n",
    "output.columns = output.columns.astype(str)\n",
    "assert len(shp) == len(pivoted) == len(output)\n",
    "\n",
    "# output.iloc[:,:300].to_file('input/taz_timestep.shp')\n",
    "# output[:700].to_file('input/taz_timestep.geojson', driver='GeoJSON')\n",
    "# output.to_file('input/taz_timestep_all.geojson', driver='GeoJSON')\n",
    "# output.to_csv('input/taz_timestep.csv', index=None)"
   ]
  },
  {
   "cell_type": "code",
   "execution_count": 59,
   "metadata": {},
   "outputs": [],
   "source": [
    "res = {'qp09ft', 'qp03pn'}\n",
    "k = set(np.ravel([geohash.neighbors(taz) for taz in res]))"
   ]
  },
  {
   "cell_type": "code",
   "execution_count": 76,
   "metadata": {},
   "outputs": [],
   "source": [
    "def get_neighbors(taz, units=7):\n",
    "    \"\"\"Get units * units blocks centered at taz.\"\"\"\n",
    "    i = 0\n",
    "    rounds = (units - 1) / 2\n",
    "    res = {taz}\n",
    "    new = {taz}\n",
    "    while i < rounds:\n",
    "        new = set(np.ravel([geohash.neighbors(t) for t in new]))\n",
    "        res.update(new)\n",
    "        i += 1\n",
    "    assert len(res) == units ** 2\n",
    "    return res"
   ]
  },
  {
   "cell_type": "code",
   "execution_count": 77,
   "metadata": {},
   "outputs": [
    {
     "name": "stdout",
     "output_type": "stream",
     "text": [
      "129 µs ± 4.73 µs per loop (mean ± std. dev. of 7 runs, 10000 loops each)\n"
     ]
    }
   ],
   "source": [
    "%%timeit\n",
    "res = get_neighbors('qp09ft')"
   ]
  },
  {
   "cell_type": "code",
   "execution_count": null,
   "metadata": {},
   "outputs": [],
   "source": []
  },
  {
   "cell_type": "code",
   "execution_count": 36,
   "metadata": {},
   "outputs": [
    {
     "ename": "AttributeError",
     "evalue": "module 'pysal' has no attribute 'queen_from_shapefile'",
     "output_type": "error",
     "traceback": [
      "\u001b[0;31m---------------------------------------------------------------------------\u001b[0m",
      "\u001b[0;31mAttributeError\u001b[0m                            Traceback (most recent call last)",
      "\u001b[0;32m<ipython-input-36-aad4f9e40738>\u001b[0m in \u001b[0;36m<module>\u001b[0;34m\u001b[0m\n\u001b[1;32m      1\u001b[0m \u001b[0mshp\u001b[0m \u001b[0;34m=\u001b[0m \u001b[0mgpd\u001b[0m\u001b[0;34m.\u001b[0m\u001b[0mread_file\u001b[0m\u001b[0;34m(\u001b[0m\u001b[0;34m'input/taz_timestep.shp'\u001b[0m\u001b[0;34m)\u001b[0m\u001b[0;34m\u001b[0m\u001b[0;34m\u001b[0m\u001b[0m\n\u001b[0;32m----> 2\u001b[0;31m \u001b[0mshp_qw\u001b[0m \u001b[0;34m=\u001b[0m \u001b[0mps\u001b[0m\u001b[0;34m.\u001b[0m\u001b[0mqueen_from_shapefile\u001b[0m\u001b[0;34m(\u001b[0m\u001b[0;34m'input/taz_timestep.shp'\u001b[0m\u001b[0;34m)\u001b[0m\u001b[0;34m\u001b[0m\u001b[0;34m\u001b[0m\u001b[0m\n\u001b[0m\u001b[1;32m      3\u001b[0m \u001b[0mshp_qw\u001b[0m\u001b[0;34m.\u001b[0m\u001b[0mtransform\u001b[0m \u001b[0;34m=\u001b[0m \u001b[0;34m'r'\u001b[0m\u001b[0;34m\u001b[0m\u001b[0;34m\u001b[0m\u001b[0m\n",
      "\u001b[0;31mAttributeError\u001b[0m: module 'pysal' has no attribute 'queen_from_shapefile'"
     ]
    }
   ],
   "source": [
    "shp = gpd.read_file('input/taz_timestep.shp')\n",
    "shp_qw = ps.queen_from_shapefile('input/taz_timestep.shp')\n",
    "shp_qw.transform = 'r'"
   ]
  },
  {
   "cell_type": "code",
   "execution_count": 11,
   "metadata": {},
   "outputs": [
    {
     "data": {
      "text/plain": [
       "751131.1908622807"
      ]
     },
     "execution_count": 11,
     "metadata": {},
     "output_type": "execute_result"
    }
   ],
   "source": [
    "shp = shp.to_crs(epsg=3857)\n",
    "shp['geometry'][0].area"
   ]
  },
  {
   "cell_type": "code",
   "execution_count": 38,
   "metadata": {},
   "outputs": [],
   "source": [
    "import matplotlib.pyplot as plt\n",
    "%pylab inline\n",
    "\n",
    "def compare_map(col1, col2):\n",
    "    fig = plt.figure(figsize=(22,8))\n",
    "    ax1 = fig.add_subplot(121)\n",
    "    ax2 = fig.add_subplot(122)\n",
    "    shp.plot(figsize=(10,6), vmax=0.7, column=col1, ax=ax1)\n",
    "    shp.plot(figsize=(10,6), vmax=0.7, column=col2, ax=ax2)"
   ]
  },
  {
   "cell_type": "code",
   "execution_count": 53,
   "metadata": {},
   "outputs": [],
   "source": [
    "ts = '200'\n",
    "values = shp[ts]\n",
    "lag = ps.lag_spatial(shp_qw, values)\n",
    "# shp[ts+'_lag'] = values + 0.3 * lag\n",
    "shp[ts+'_lag'] = lag"
   ]
  },
  {
   "cell_type": "code",
   "execution_count": 54,
   "metadata": {},
   "outputs": [
    {
     "data": {
      "image/png": "[encoded data removed]",
      "text/plain": [
       "<Figure size 1584x576 with 2 Axes>"
      ]
     },
     "metadata": {},
     "output_type": "display_data"
    }
   ],
   "source": [
    "compare_map(ts, ts+'_lag')"
   ]
  },
  {
   "cell_type": "code",
   "execution_count": 55,
   "metadata": {},
   "outputs": [
    {
     "data": {
      "image/png": "[encoded data removed]",
      "text/plain": [
       "<Figure size 1584x576 with 2 Axes>"
      ]
     },
     "metadata": {},
     "output_type": "display_data"
    }
   ],
   "source": [
    "compare_map(str(int(ts)+1), str(int(ts)+4))"
   ]
  },
  {
   "cell_type": "code",
   "execution_count": 56,
   "metadata": {},
   "outputs": [],
   "source": [
    "df = pd.read_csv('input/taz_timestep.csv')"
   ]
  },
  {
   "cell_type": "code",
   "execution_count": 57,
   "metadata": {},
   "outputs": [
    {
     "data": {
      "text/html": [
       "<div>\n",
       "<style scoped>\n",
       "    .dataframe tbody tr th:only-of-type {\n",
       "        vertical-align: middle;\n",
       "    }\n",
       "\n",
       "    .dataframe tbody tr th {\n",
       "        vertical-align: top;\n",
       "    }\n",
       "\n",
       "    .dataframe thead th {\n",
       "        text-align: right;\n",
       "    }\n",
       "</style>\n",
       "<table border=\"1\" class=\"dataframe\">\n",
       "  <thead>\n",
       "    <tr style=\"text-align: right;\">\n",
       "      <th></th>\n",
       "      <th>geohash6</th>\n",
       "      <th>geometry</th>\n",
       "      <th>1</th>\n",
       "      <th>2</th>\n",
       "      <th>3</th>\n",
       "      <th>4</th>\n",
       "      <th>5</th>\n",
       "      <th>6</th>\n",
       "      <th>7</th>\n",
       "      <th>8</th>\n",
       "      <th>...</th>\n",
       "      <th>5847</th>\n",
       "      <th>5848</th>\n",
       "      <th>5849</th>\n",
       "      <th>5850</th>\n",
       "      <th>5851</th>\n",
       "      <th>5852</th>\n",
       "      <th>5853</th>\n",
       "      <th>5854</th>\n",
       "      <th>5855</th>\n",
       "      <th>5856</th>\n",
       "    </tr>\n",
       "  </thead>\n",
       "  <tbody>\n",
       "    <tr>\n",
       "      <th>0</th>\n",
       "      <td>qp03wc</td>\n",
       "      <td>POLYGON ((90.648193359375 -5.350341796875, 90....</td>\n",
       "      <td>0.054858</td>\n",
       "      <td>0.086209</td>\n",
       "      <td>0.050739</td>\n",
       "      <td>0.075174</td>\n",
       "      <td>0.062867</td>\n",
       "      <td>0.056765</td>\n",
       "      <td>0.069417</td>\n",
       "      <td>0.079853</td>\n",
       "      <td>...</td>\n",
       "      <td>0.034899</td>\n",
       "      <td>0.027943</td>\n",
       "      <td>0.029310</td>\n",
       "      <td>0.033446</td>\n",
       "      <td>0.018348</td>\n",
       "      <td>0.045894</td>\n",
       "      <td>0.068427</td>\n",
       "      <td>0.034809</td>\n",
       "      <td>0.059814</td>\n",
       "      <td>0.045901</td>\n",
       "    </tr>\n",
       "    <tr>\n",
       "      <th>1</th>\n",
       "      <td>qp03pn</td>\n",
       "      <td>POLYGON ((90.6591796875 -5.4107666015625, 90.6...</td>\n",
       "      <td>NaN</td>\n",
       "      <td>0.005546</td>\n",
       "      <td>0.013577</td>\n",
       "      <td>0.004720</td>\n",
       "      <td>0.004425</td>\n",
       "      <td>0.000303</td>\n",
       "      <td>0.013996</td>\n",
       "      <td>0.004471</td>\n",
       "      <td>...</td>\n",
       "      <td>0.002006</td>\n",
       "      <td>0.004884</td>\n",
       "      <td>NaN</td>\n",
       "      <td>NaN</td>\n",
       "      <td>0.001958</td>\n",
       "      <td>0.000778</td>\n",
       "      <td>NaN</td>\n",
       "      <td>NaN</td>\n",
       "      <td>NaN</td>\n",
       "      <td>NaN</td>\n",
       "    </tr>\n",
       "    <tr>\n",
       "      <th>2</th>\n",
       "      <td>qp09sw</td>\n",
       "      <td>POLYGON ((90.90087890625 -5.3228759765625, 90....</td>\n",
       "      <td>0.022881</td>\n",
       "      <td>0.019733</td>\n",
       "      <td>0.023053</td>\n",
       "      <td>0.029018</td>\n",
       "      <td>0.073814</td>\n",
       "      <td>0.066341</td>\n",
       "      <td>0.061355</td>\n",
       "      <td>0.094834</td>\n",
       "      <td>...</td>\n",
       "      <td>NaN</td>\n",
       "      <td>0.011049</td>\n",
       "      <td>0.015564</td>\n",
       "      <td>NaN</td>\n",
       "      <td>0.013121</td>\n",
       "      <td>NaN</td>\n",
       "      <td>0.005243</td>\n",
       "      <td>0.014848</td>\n",
       "      <td>0.007184</td>\n",
       "      <td>0.035813</td>\n",
       "    </tr>\n",
       "    <tr>\n",
       "      <th>3</th>\n",
       "      <td>qp0991</td>\n",
       "      <td>POLYGON ((90.7470703125 -5.350341796875, 90.75...</td>\n",
       "      <td>0.012395</td>\n",
       "      <td>0.048042</td>\n",
       "      <td>0.078544</td>\n",
       "      <td>0.074393</td>\n",
       "      <td>0.117350</td>\n",
       "      <td>0.092151</td>\n",
       "      <td>0.061261</td>\n",
       "      <td>0.083871</td>\n",
       "      <td>...</td>\n",
       "      <td>0.009638</td>\n",
       "      <td>NaN</td>\n",
       "      <td>NaN</td>\n",
       "      <td>NaN</td>\n",
       "      <td>NaN</td>\n",
       "      <td>0.002199</td>\n",
       "      <td>0.030536</td>\n",
       "      <td>0.038095</td>\n",
       "      <td>0.058625</td>\n",
       "      <td>0.021198</td>\n",
       "    </tr>\n",
       "    <tr>\n",
       "      <th>4</th>\n",
       "      <td>qp090q</td>\n",
       "      <td>POLYGON ((90.714111328125 -5.4107666015625, 90...</td>\n",
       "      <td>NaN</td>\n",
       "      <td>NaN</td>\n",
       "      <td>NaN</td>\n",
       "      <td>0.011483</td>\n",
       "      <td>0.003363</td>\n",
       "      <td>0.015389</td>\n",
       "      <td>0.016686</td>\n",
       "      <td>0.017399</td>\n",
       "      <td>...</td>\n",
       "      <td>0.000407</td>\n",
       "      <td>0.015546</td>\n",
       "      <td>NaN</td>\n",
       "      <td>0.002288</td>\n",
       "      <td>0.011023</td>\n",
       "      <td>0.008362</td>\n",
       "      <td>NaN</td>\n",
       "      <td>0.001531</td>\n",
       "      <td>NaN</td>\n",
       "      <td>NaN</td>\n",
       "    </tr>\n",
       "  </tbody>\n",
       "</table>\n",
       "<p>5 rows × 5849 columns</p>\n",
       "</div>"
      ],
      "text/plain": [
       "  geohash6                                           geometry         1  \\\n",
       "0   qp03wc  POLYGON ((90.648193359375 -5.350341796875, 90....  0.054858   \n",
       "1   qp03pn  POLYGON ((90.6591796875 -5.4107666015625, 90.6...       NaN   \n",
       "2   qp09sw  POLYGON ((90.90087890625 -5.3228759765625, 90....  0.022881   \n",
       "3   qp0991  POLYGON ((90.7470703125 -5.350341796875, 90.75...  0.012395   \n",
       "4   qp090q  POLYGON ((90.714111328125 -5.4107666015625, 90...       NaN   \n",
       "\n",
       "          2         3         4         5         6         7         8  ...  \\\n",
       "0  0.086209  0.050739  0.075174  0.062867  0.056765  0.069417  0.079853  ...   \n",
       "1  0.005546  0.013577  0.004720  0.004425  0.000303  0.013996  0.004471  ...   \n",
       "2  0.019733  0.023053  0.029018  0.073814  0.066341  0.061355  0.094834  ...   \n",
       "3  0.048042  0.078544  0.074393  0.117350  0.092151  0.061261  0.083871  ...   \n",
       "4       NaN       NaN  0.011483  0.003363  0.015389  0.016686  0.017399  ...   \n",
       "\n",
       "       5847      5848      5849      5850      5851      5852      5853  \\\n",
       "0  0.034899  0.027943  0.029310  0.033446  0.018348  0.045894  0.068427   \n",
       "1  0.002006  0.004884       NaN       NaN  0.001958  0.000778       NaN   \n",
       "2       NaN  0.011049  0.015564       NaN  0.013121       NaN  0.005243   \n",
       "3  0.009638       NaN       NaN       NaN       NaN  0.002199  0.030536   \n",
       "4  0.000407  0.015546       NaN  0.002288  0.011023  0.008362       NaN   \n",
       "\n",
       "       5854      5855      5856  \n",
       "0  0.034809  0.059814  0.045901  \n",
       "1       NaN       NaN       NaN  \n",
       "2  0.014848  0.007184  0.035813  \n",
       "3  0.038095  0.058625  0.021198  \n",
       "4  0.001531       NaN       NaN  \n",
       "\n",
       "[5 rows x 5849 columns]"
      ]
     },
     "execution_count": 57,
     "metadata": {},
     "output_type": "execute_result"
    }
   ],
   "source": [
    "df.head()"
   ]
  },
  {
   "cell_type": "code",
   "execution_count": 61,
   "metadata": {},
   "outputs": [],
   "source": [
    "corrtab = df.T.iloc[2:].corrtab()"
   ]
  },
  {
   "cell_type": "code",
   "execution_count": 69,
   "metadata": {},
   "outputs": [],
   "source": [
    "dfT = df.T\n",
    "dfT.columns = df['geohash6']"
   ]
  },
  {
   "cell_type": "code",
   "execution_count": 71,
   "metadata": {},
   "outputs": [],
   "source": [
    "dfT = dfT.iloc[2:,:]\n",
    "dfT = dfT.astype(float)"
   ]
  },
  {
   "cell_type": "code",
   "execution_count": 79,
   "metadata": {},
   "outputs": [],
   "source": [
    "corrtab = dfT.corr()"
   ]
  },
  {
   "cell_type": "code",
   "execution_count": 81,
   "metadata": {},
   "outputs": [],
   "source": [
    "corrtab.round(3).to_csv('output/taz_corr.csv')"
   ]
  },
  {
   "cell_type": "code",
   "execution_count": null,
   "metadata": {},
   "outputs": [],
   "source": [
    "corrtab"
   ]
  }
 ],
 "metadata": {
  "kernelspec": {
   "display_name": "Python 3",
   "language": "python",
   "name": "python3"
  },
  "language_info": {
   "codemirror_mode": {
    "name": "ipython",
    "version": 3
   },
   "file_extension": ".py",
   "mimetype": "text/x-python",
   "name": "python",
   "nbconvert_exporter": "python",
   "pygments_lexer": "ipython3",
   "version": "3.7.1"
  }
 },
 "nbformat": 4,
 "nbformat_minor": 2
}
