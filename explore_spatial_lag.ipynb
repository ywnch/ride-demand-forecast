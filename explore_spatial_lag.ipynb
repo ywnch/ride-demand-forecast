{
 "cells": [
  {
   "cell_type": "markdown",
   "metadata": {},
   "source": [
    "# Explore Spatial Autocorrelation and Spatial Lag Terms\n",
    "1. Prepare TAZ shapefile\n",
    "2. Map neighbors\n",
    "3. Apply spatial lags"
   ]
  },
  {
   "cell_type": "code",
   "execution_count": 1,
   "metadata": {},
   "outputs": [
    {
     "name": "stdout",
     "output_type": "stream",
     "text": [
      "Populating the interactive namespace from numpy and matplotlib\n"
     ]
    }
   ],
   "source": [
    "# general import\n",
    "import os\n",
    "import numpy as np\n",
    "import pandas as pd\n",
    "import matplotlib.pyplot as plt\n",
    "\n",
    "# additional import\n",
    "import geohash\n",
    "import geopandas as gpd\n",
    "import pysal as ps  # may be defective on some machines\n",
    "\n",
    "# local import\n",
    "from rdforecast import datasets\n",
    "\n",
    "%pylab inline"
   ]
  },
  {
   "cell_type": "code",
   "execution_count": 2,
   "metadata": {},
   "outputs": [
    {
     "name": "stdout",
     "output_type": "stream",
     "text": [
      "Data loaded.\n",
      "TAZ: 1329\n",
      "N: 4206321\n",
      "  geohash6  day timestamp    demand\n",
      "0   qp03wc   18      20:0  0.020072\n",
      "1   qp03pn   10     14:30  0.024721\n",
      "2   qp09sw    9      6:15  0.102821\n",
      "No missing values found.\n",
      "First day in sequence: 1\n",
      "Last day in sequence: 61\n"
     ]
    },
    {
     "data": {
      "text/html": [
       "<div>\n",
       "<style scoped>\n",
       "    .dataframe tbody tr th:only-of-type {\n",
       "        vertical-align: middle;\n",
       "    }\n",
       "\n",
       "    .dataframe tbody tr th {\n",
       "        vertical-align: top;\n",
       "    }\n",
       "\n",
       "    .dataframe thead th {\n",
       "        text-align: right;\n",
       "    }\n",
       "</style>\n",
       "<table border=\"1\" class=\"dataframe\">\n",
       "  <thead>\n",
       "    <tr style=\"text-align: right;\">\n",
       "      <th></th>\n",
       "      <th>geohash6</th>\n",
       "      <th>day</th>\n",
       "      <th>timestamp</th>\n",
       "      <th>demand</th>\n",
       "      <th>timestep</th>\n",
       "      <th>weekly</th>\n",
       "      <th>quarter</th>\n",
       "      <th>hour</th>\n",
       "      <th>dow</th>\n",
       "    </tr>\n",
       "  </thead>\n",
       "  <tbody>\n",
       "    <tr>\n",
       "      <th>0</th>\n",
       "      <td>qp03wc</td>\n",
       "      <td>18</td>\n",
       "      <td>20:0</td>\n",
       "      <td>0.020072</td>\n",
       "      <td>1712</td>\n",
       "      <td>368</td>\n",
       "      <td>80</td>\n",
       "      <td>20</td>\n",
       "      <td>4</td>\n",
       "    </tr>\n",
       "    <tr>\n",
       "      <th>1</th>\n",
       "      <td>qp03pn</td>\n",
       "      <td>10</td>\n",
       "      <td>14:30</td>\n",
       "      <td>0.024721</td>\n",
       "      <td>922</td>\n",
       "      <td>250</td>\n",
       "      <td>58</td>\n",
       "      <td>14</td>\n",
       "      <td>3</td>\n",
       "    </tr>\n",
       "    <tr>\n",
       "      <th>2</th>\n",
       "      <td>qp09sw</td>\n",
       "      <td>9</td>\n",
       "      <td>6:15</td>\n",
       "      <td>0.102821</td>\n",
       "      <td>793</td>\n",
       "      <td>121</td>\n",
       "      <td>25</td>\n",
       "      <td>6</td>\n",
       "      <td>2</td>\n",
       "    </tr>\n",
       "    <tr>\n",
       "      <th>3</th>\n",
       "      <td>qp0991</td>\n",
       "      <td>32</td>\n",
       "      <td>5:0</td>\n",
       "      <td>0.088755</td>\n",
       "      <td>2996</td>\n",
       "      <td>308</td>\n",
       "      <td>20</td>\n",
       "      <td>5</td>\n",
       "      <td>4</td>\n",
       "    </tr>\n",
       "    <tr>\n",
       "      <th>4</th>\n",
       "      <td>qp090q</td>\n",
       "      <td>15</td>\n",
       "      <td>4:0</td>\n",
       "      <td>0.074468</td>\n",
       "      <td>1360</td>\n",
       "      <td>16</td>\n",
       "      <td>16</td>\n",
       "      <td>4</td>\n",
       "      <td>1</td>\n",
       "    </tr>\n",
       "  </tbody>\n",
       "</table>\n",
       "</div>"
      ],
      "text/plain": [
       "  geohash6  day timestamp    demand  timestep  weekly  quarter  hour  dow\n",
       "0   qp03wc   18      20:0  0.020072      1712     368       80    20    4\n",
       "1   qp03pn   10     14:30  0.024721       922     250       58    14    3\n",
       "2   qp09sw    9      6:15  0.102821       793     121       25     6    2\n",
       "3   qp0991   32       5:0  0.088755      2996     308       20     5    4\n",
       "4   qp090q   15       4:0  0.074468      1360      16       16     4    1"
      ]
     },
     "execution_count": 2,
     "metadata": {},
     "output_type": "execute_result"
    }
   ],
   "source": [
    "path = './input/'\n",
    "# retrieve data from source url (if filepath is None)\n",
    "data = datasets.load_training_data(filepath=path+'training.csv')\n",
    "data = datasets.check_sanity(data)\n",
    "data = datasets.process_timestamp(data)\n",
    "data.head()"
   ]
  },
  {
   "cell_type": "markdown",
   "metadata": {},
   "source": [
    "# 1. Shapefile"
   ]
  },
  {
   "cell_type": "code",
   "execution_count": 3,
   "metadata": {},
   "outputs": [],
   "source": [
    "def geohash_to_polygon(hashcode):\n",
    "    from shapely.geometry import Polygon\n",
    "    box = geohash.bbox(hashcode)\n",
    "    vertices = [(box['w'], box['n']),\n",
    "                (box['e'], box['n']),\n",
    "                (box['e'], box['s']),\n",
    "                (box['w'], box['s'])]\n",
    "    return Polygon(vertices)"
   ]
  },
  {
   "cell_type": "code",
   "execution_count": 4,
   "metadata": {},
   "outputs": [],
   "source": [
    "# generate shapefile for all TAZs\n",
    "tazs = list(data['geohash6'].unique())\n",
    "geometry = [geohash_to_polygon(taz) for taz in tazs]\n",
    "shp = gpd.GeoDataFrame({'geohash6': tazs}, geometry=geometry)\n",
    "shp.crs = {'init': 'epsg:4326'}\n",
    "assert len(shp) == len(data['geohash6'].unique())\n",
    "shp.to_file(path+'shapefiles/taz.shp')\n",
    "\n",
    "# assert adjacency\n",
    "a = shp[shp['geohash6'] == 'qp03wc']['geometry'].values[0]\n",
    "b = np.array([a.intersects(shp[shp['geohash6'] == gh]['geometry'].values[0])\n",
    "              for gh in geohash.neighbors('qp03wc')])\n",
    "assert sum(b == False) == 0"
   ]
  },
  {
   "cell_type": "code",
   "execution_count": 5,
   "metadata": {},
   "outputs": [
    {
     "name": "stdout",
     "output_type": "stream",
     "text": [
      "TAZ area: 0.7511311908614264 (km^2)\n"
     ]
    }
   ],
   "source": [
    "unit_area = shp.to_crs(epsg=3857)['geometry'][0].area / 1000000\n",
    "print('TAZ area: {} (km^2)'.format(unit_area))"
   ]
  },
  {
   "cell_type": "markdown",
   "metadata": {},
   "source": [
    "# 2. Neighbors"
   ]
  },
  {
   "cell_type": "code",
   "execution_count": 6,
   "metadata": {},
   "outputs": [],
   "source": [
    "def get_neighbors(taz, valid_tazs, units=5):\n",
    "    \"\"\"Get units * units blocks centered at taz.\"\"\"\n",
    "    i = 0\n",
    "    assert (units % 2 == 1) & (units > 1), 'units should be an odd number > 1'\n",
    "    rounds = (units - 1) / 2\n",
    "    res = {taz}\n",
    "    new = {taz}\n",
    "    while i < rounds:\n",
    "        new = set(np.ravel([geohash.neighbors(t) for t in new]))\n",
    "        new = new.intersection(valid_tazs)\n",
    "        res.update(new)\n",
    "        i += 1\n",
    "    return res"
   ]
  },
  {
   "cell_type": "code",
   "execution_count": 7,
   "metadata": {},
   "outputs": [
    {
     "data": {
      "image/png": "[encoded data removed]",
      "text/plain": [
       "<Figure size 432x288 with 1 Axes>"
      ]
     },
     "metadata": {},
     "output_type": "display_data"
    }
   ],
   "source": [
    "# generate neighbor TAZ mapper\n",
    "nbr_mapper = {taz: get_neighbors(taz, tazs, 3) for taz in tazs}\n",
    "\n",
    "# plot an example\n",
    "ax = shp.plot(linewidth=1, edgecolor='black')\n",
    "shp[shp['geohash6'].isin(nbr_mapper['qp03wc'])].plot(ax=ax, color='gold')\n",
    "shp[shp['geohash6'] == 'qp03wc'].plot(ax=ax, color='indianred');"
   ]
  },
  {
   "cell_type": "markdown",
   "metadata": {},
   "source": [
    "# 3. Spatial Lag"
   ]
  },
  {
   "cell_type": "code",
   "execution_count": 8,
   "metadata": {},
   "outputs": [],
   "source": [
    "def compare_map(shp, col1, col2):\n",
    "    fig = plt.figure(figsize=(22,8))\n",
    "    ax1 = fig.add_subplot(121)\n",
    "    ax2 = fig.add_subplot(122)\n",
    "    shp.plot(figsize=(10,6), vmax=0.7, column=col1, ax=ax1)\n",
    "    shp.plot(figsize=(10,6), vmax=0.7, column=col2, ax=ax2)"
   ]
  },
  {
   "cell_type": "code",
   "execution_count": 9,
   "metadata": {},
   "outputs": [],
   "source": [
    "# pivot data\n",
    "pivoted = data.pivot(index='geohash6', columns='timestep', values='demand').reset_index()\n",
    "output = shp.merge(pivoted, how='left', on='geohash6')\n",
    "output.columns = output.columns.astype(str)\n",
    "assert len(shp) == len(pivoted) == len(output)\n",
    "output.iloc[:,:300].to_file(path+'shapefiles/taz_timestep.shp')  # just save a sample\n",
    "# output.to_csv(path+'taz_timestep.csv', index=None)"
   ]
  },
  {
   "cell_type": "code",
   "execution_count": 10,
   "metadata": {},
   "outputs": [],
   "source": [
    "# read in shapefile with queen contiguity\n",
    "shp_qw = ps.queen_from_shapefile(path+'shapefiles/taz_timestep.shp')\n",
    "shp_qw.transform = 'r'"
   ]
  },
  {
   "cell_type": "code",
   "execution_count": 11,
   "metadata": {},
   "outputs": [],
   "source": [
    "shp_ = gpd.read_file(path+'shapefiles/taz_timestep.shp')"
   ]
  },
  {
   "cell_type": "code",
   "execution_count": 12,
   "metadata": {},
   "outputs": [],
   "source": [
    "# inspect spatial lag on demands\n",
    "ts = '200'\n",
    "values = shp_[ts]\n",
    "lag = ps.lag_spatial(shp_qw, values)\n",
    "# shp_[str(ts)+'_lag'] = values + 0.3 * lag\n",
    "shp_[str(ts)+'_lag'] = lag"
   ]
  },
  {
   "cell_type": "code",
   "execution_count": 13,
   "metadata": {},
   "outputs": [
    {
     "data": {
      "image/png": "[encoded data removed]",
      "text/plain": [
       "<Figure size 1584x576 with 2 Axes>"
      ]
     },
     "metadata": {},
     "output_type": "display_data"
    }
   ],
   "source": [
    "compare_map(shp_, ts, str(ts)+'_lag')"
   ]
  },
  {
   "cell_type": "code",
   "execution_count": 14,
   "metadata": {},
   "outputs": [
    {
     "data": {
      "image/png": "[encoded data removed]",
      "text/plain": [
       "<Figure size 1584x576 with 2 Axes>"
      ]
     },
     "metadata": {},
     "output_type": "display_data"
    }
   ],
   "source": [
    "compare_map(shp_, str(int(ts)+1), str(int(ts)+4))"
   ]
  },
  {
   "cell_type": "code",
   "execution_count": 15,
   "metadata": {},
   "outputs": [],
   "source": [
    "# check correlations\n",
    "df = pd.read_csv(path+'taz_timestep.csv')\n",
    "dfT = df.T\n",
    "dfT.columns = df['geohash6']\n",
    "dfT = dfT.iloc[2:,:]\n",
    "dfT = dfT.astype(float)\n",
    "corrtab = dfT.corr()\n",
    "corrtab.round(3).to_csv('./output/taz_corr.csv')"
   ]
  },
  {
   "cell_type": "code",
   "execution_count": null,
   "metadata": {},
   "outputs": [],
   "source": []
  }
 ],
 "metadata": {
  "kernelspec": {
   "display_name": "Python 3",
   "language": "python",
   "name": "python3"
  },
  "language_info": {
   "codemirror_mode": {
    "name": "ipython",
    "version": 3
   },
   "file_extension": ".py",
   "mimetype": "text/x-python",
   "name": "python",
   "nbconvert_exporter": "python",
   "pygments_lexer": "ipython3",
   "version": "3.6.8"
  }
 },
 "nbformat": 4,
 "nbformat_minor": 2
}
