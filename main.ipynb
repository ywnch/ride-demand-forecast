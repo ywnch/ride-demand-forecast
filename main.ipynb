{
 "cells": [
  {
   "cell_type": "markdown",
   "metadata": {},
   "source": [
    "build a model trained on a historical demand dataset, that can forecast demand on a Hold-out test dataset. The model should be able to accurately forecast ahead by T+1 to T+5 time intervals (where each interval is 15-min) given all data up to time T.\n",
    "\n",
    "step by step documentation on how to run your code. Our evaluators will be running your data models on a test dataset.\n",
    "\n",
    "The given dataset contains normalised historical demand of a city, aggregated spatiotemporally within geohashes and over 15 minute intervals. The dataset spans over a two month period.\n",
    "\n",
    "\n",
    "- geohash6: geohash level 6. Geohash is a public domain geocoding system which encodes a geographic location into a short string of letters and digits with arbitrary precision. You are free to use any geohash library to encode/decode the geohashes into latitude and longitude or vice versa. Some examples include https://github.com/hkwi/python-geohash (for Python).\n",
    "- day: day, where the value indicates the sequential order and not a particular day of the month\n",
    "- timestamp: start time of 15-minute intervals, in the following format: hour:minute, where hour ranges from 0 to 23 and minute is either one of (0, 15, 30, 45)\n",
    "- demand: aggregated demand normalised to be in the range [0,1]\n",
    "\n",
    "\n",
    "Test dataset details:\n",
    "\n",
    "1. Timeframe: The test dataset can start from any time period after the timeframe of the training dataset. Your model can use features of up to 14 consecutive days from the test dataset, ending at timestamp T and predict T+1 to T+5.\n",
    "\n",
    "\n",
    "2. Geohash coverage: You may assume that the set of geohashes are the same in training dataset and test dataset. The original geohashes are anonymised (it may not be on an existing city), but you may assume that adjacency is maintained between the geohashes.\n",
    "\n",
    "\n",
    "Submissions will be evaluated by RMSE (root mean squared error) averaged over all geohash6, 15-minute-bucket pairs.\n",
    "\n",
    "[Data Source](https://s3-ap-southeast-1.amazonaws.com/grab-aiforsea-dataset/traffic-management.zip)"
   ]
  },
  {
   "cell_type": "code",
   "execution_count": 1,
   "metadata": {},
   "outputs": [
    {
     "name": "stdout",
     "output_type": "stream",
     "text": [
      "Populating the interactive namespace from numpy and matplotlib\n"
     ]
    }
   ],
   "source": [
    "import numpy as np\n",
    "import pandas as pd\n",
    "import geopandas as gpd\n",
    "import matplotlib.pyplot as plt\n",
    "\n",
    "%pylab inline"
   ]
  },
  {
   "cell_type": "code",
   "execution_count": null,
   "metadata": {},
   "outputs": [],
   "source": [
    "# configurations\n",
    "\n",
    "output_size = 5  # timesteps"
   ]
  },
  {
   "cell_type": "code",
   "execution_count": null,
   "metadata": {},
   "outputs": [],
   "source": [
    "# walk-forward validation\n",
    "steps_per_day = 96\n",
    "n_min_obs = 7\n",
    "window_size = 14"
   ]
  },
  {
   "cell_type": "code",
   "execution_count": null,
   "metadata": {},
   "outputs": [],
   "source": [
    "# https://machinelearningmastery.com/backtest-machine-learning-models-time-series-forecasting/\n",
    "from pandas import Series\n",
    "from matplotlib import pyplot\n",
    "series = Series.from_csv('sunspots.csv', header=0)\n",
    "X = series.values\n",
    "n_train = 500\n",
    "n_records = len(X)\n",
    "for i in range(n_train, n_records):\n",
    "    train, test = X[0:i], X[i:i+1]\n",
    "    print('train=%d, test=%d' % (len(train), len(test)))\n",
    "#     Within the loop is where you would train and evaluate your model."
   ]
  },
  {
   "cell_type": "code",
   "execution_count": null,
   "metadata": {},
   "outputs": [],
   "source": [
    "from sklearn.model_selection import TimeSeriesSplit\n",
    "X = np.array([[1, 2], [3, 4], [1, 2], [3, 4]])\n",
    "y = np.array([1, 2, 3, 4])\n",
    "tscv = TimeSeriesSplit(n_splits=3, max_train_size=None)\n",
    "for train_index, test_index in tscv.split(X):\n",
    "     print(\"Train:\", train_index, \"Validation:\", test_index)\n",
    "     X_train, X_test = X[train_index], X[test_index]\n",
    "     y_train, y_test = y[train_index], y[test_index]"
   ]
  },
  {
   "cell_type": "markdown",
   "metadata": {},
   "source": [
    "# 1. Load Data"
   ]
  },
  {
   "cell_type": "code",
   "execution_count": 2,
   "metadata": {},
   "outputs": [
    {
     "name": "stdout",
     "output_type": "stream",
     "text": [
      "'filepath' not given, download data from: https://s3-ap-southeast-1.amazonaws.com/grab-aiforsea-dataset/traffic-management.zip\n",
      "Data loaded.\n",
      "N: 4206321\n",
      "  geohash6  day timestamp    demand\n",
      "0   qp03wc   18      20:0  0.020072\n",
      "1   qp03pn   10     14:30  0.024721\n",
      "2   qp09sw    9      6:15  0.102821\n"
     ]
    }
   ],
   "source": [
    "from rdforecast import datasets\n",
    "data = datasets.load_training_data()"
   ]
  },
  {
   "cell_type": "code",
   "execution_count": 23,
   "metadata": {},
   "outputs": [
    {
     "name": "stdout",
     "output_type": "stream",
     "text": [
      "Training set: 47 days\n",
      "Testing set: 14 days\n"
     ]
    }
   ],
   "source": [
    "assert data.isna().sum().sum() == 0\n",
    "test_days = 14\n",
    "total_days = data['day'].max()\n",
    "cutpoint = total_days - test_days\n",
    "train = data[data['day'] <= cutpoint]\n",
    "test = data[data['day'] > cutpoint]\n",
    "print('Training set: {} days'.format(len(train['day'].unique())))\n",
    "print('Testing set: {} days'.format(len(test['day'].unique())))"
   ]
  },
  {
   "cell_type": "code",
   "execution_count": null,
   "metadata": {},
   "outputs": [],
   "source": []
  },
  {
   "cell_type": "markdown",
   "metadata": {},
   "source": [
    "# 2. Pre-process"
   ]
  },
  {
   "cell_type": "code",
   "execution_count": null,
   "metadata": {},
   "outputs": [],
   "source": []
  },
  {
   "cell_type": "markdown",
   "metadata": {},
   "source": [
    "# 3. Feature Engineering\n",
    "Scaling by Max-Min: This is good and often required preprocessing for Linear models, Neural Networks\n",
    "\n",
    "Normalization using Standard Deviation: This is good and often required preprocessing for Linear models, Neural Networks\n",
    "\n",
    "Log-based feature/Target: Use log based features or log-based target function. If one is using a Linear model which assumes that the features are normally distributed, a log transformation could make the feature normal. It is also handy in case of skewed variables like income.\n",
    "\n",
    "\n",
    "\n",
    "Time segmentation\n",
    "Manual relate temporal features\n",
    "Manually tag sth, domain specific\n",
    "\n",
    "normalize your inputs so that the average is zero."
   ]
  },
  {
   "cell_type": "code",
   "execution_count": null,
   "metadata": {},
   "outputs": [],
   "source": []
  },
  {
   "cell_type": "markdown",
   "metadata": {},
   "source": [
    "# Feature Selection and Sampling and Splitting\n",
    "- spatial sampling?\n",
    "- imbalance issue?"
   ]
  },
  {
   "cell_type": "markdown",
   "metadata": {},
   "source": [
    "# 4. Model Training\n",
    "- Training score\n",
    "- Validation score"
   ]
  },
  {
   "cell_type": "code",
   "execution_count": null,
   "metadata": {},
   "outputs": [],
   "source": [
    "# model setup"
   ]
  },
  {
   "cell_type": "code",
   "execution_count": null,
   "metadata": {},
   "outputs": [],
   "source": []
  },
  {
   "cell_type": "markdown",
   "metadata": {},
   "source": [
    "# 5. Evaluation (Backtesting)\n",
    "- RMSE\n",
    "- MAPE\n",
    "- visualize"
   ]
  },
  {
   "cell_type": "code",
   "execution_count": null,
   "metadata": {},
   "outputs": [],
   "source": [
    "from sklearn.metrics import mean_squared_error\n",
    "assert len(y_true) == len(y_pred)\n",
    "rmse = np.sqrt(mean_squared_error(y_true, y_pred))\n",
    "# rmse = np.sqrt(np.average((y_true - y_pred) ** 2))\n",
    "mape = np.mean(np.abs((y_true - y_pred) / y_true)) * 100"
   ]
  },
  {
   "cell_type": "markdown",
   "metadata": {},
   "source": [
    "# 6. Model Selection\n",
    "- ANN stacking with models?"
   ]
  },
  {
   "cell_type": "markdown",
   "metadata": {},
   "source": [
    "# 7. Prediction"
   ]
  },
  {
   "cell_type": "code",
   "execution_count": null,
   "metadata": {},
   "outputs": [],
   "source": []
  },
  {
   "cell_type": "markdown",
   "metadata": {},
   "source": [
    "# 8. Output\n",
    "- result log for validation\n",
    "- test prediction"
   ]
  },
  {
   "cell_type": "code",
   "execution_count": null,
   "metadata": {},
   "outputs": [],
   "source": []
  }
 ],
 "metadata": {
  "kernelspec": {
   "display_name": ".venv",
   "language": "python",
   "name": ".venv"
  },
  "language_info": {
   "codemirror_mode": {
    "name": "ipython",
    "version": 3
   },
   "file_extension": ".py",
   "mimetype": "text/x-python",
   "name": "python",
   "nbconvert_exporter": "python",
   "pygments_lexer": "ipython3",
   "version": "3.6.8"
  }
 },
 "nbformat": 4,
 "nbformat_minor": 2
}
